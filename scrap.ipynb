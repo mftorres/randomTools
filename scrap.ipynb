{
 "cells": [
  {
   "cell_type": "markdown",
   "metadata": {},
   "source": [
    "# Scrapping text from webs\n",
    "\n",
    "This is an example code to scrapped a predictable text from the HTML source of a website. It simply accesses the website, extracts the HTML unwrapping the desired elements (by class) and using regex and dictionaries to store the information."
   ]
  },
  {
   "cell_type": "code",
   "execution_count": 3,
   "metadata": {},
   "outputs": [
    {
     "name": "stdout",
     "output_type": "stream",
     "text": [
      "Python version: 3.6.7 (default, Feb 28 2019, 07:28:18) [MSC v.1900 64 bit (AMD64)]\n"
     ]
    }
   ],
   "source": [
    "import pandas as pd\n",
    "import numpy as np\n",
    "import urllib3\n",
    "from bs4 import BeautifulSoup\n",
    "import requests\n",
    "import re\n",
    "from selenium import webdriver\n",
    "import time\n",
    "\n",
    "import sys\n",
    "print('Python version: %s'%(sys.version))\n",
    "\n",
    "%matplotlib inline"
   ]
  },
  {
   "cell_type": "markdown",
   "metadata": {},
   "source": [
    "# For a loop of websites\n",
    "\n",
    "no tested"
   ]
  },
  {
   "cell_type": "code",
   "execution_count": null,
   "metadata": {},
   "outputs": [],
   "source": [
    "# each entry should be '[0-9]+/[0-9]+'\n",
    "page_list=['','']\n",
    "\n",
    "dic_sppyears={}\n",
    "for page in page_list:\n",
    "    driver=webdriver.Chrome('C:/Users/xtorrm/Desktop/chromedriver_win32/chromedriver.exe')\n",
    "    driver.get('https://www.iucnredlist.org/species/%s'%(page))\n",
    "    driver.find_elements_by_class_name('layout-card--split__minor')\n",
    "    html=driver.page_source\n",
    "    # print(html)\n",
    "\n",
    "\n",
    "    # <title>Neofelis nebulosa</title>\n",
    "\n",
    "    # creates an empty dictionary with species name as keys and generation times as values\n",
    "    for line in html.split('\\n'):\n",
    "        # starts assuming there's no data\n",
    "        years_data='absent'\n",
    "        species_match=re.search('title\\>([A-Za-z]+ [a-z]+).+\\<\\/title',line)\n",
    "        generation_match=re.search('Generation length \\(years\\)</h3><p class=\"card__data card__data--std card__data--accent\">([0-9].+) (years)</p>',line)\n",
    "        # species name should appear before than generation time\n",
    "        # if species name is found, asigns to variable\n",
    "        if species_match:\n",
    "            spp_name=species_match.group(1)\n",
    "        # continues down the stream searching for generation time, if True, creates the accession in the dictionary\n",
    "        elif generation_match:\n",
    "            dic_sppyears[spp_name]=generation_match.group(1)\n",
    "            years_data='present'\n",
    "        # continues through lines after finding the data in the line\n",
    "        # passes until end of html\n",
    "        elif years_data == 'present':\n",
    "            pass\n",
    "        # goes to the end and asigns the key species name a value of no information\n",
    "        else:\n",
    "            dic_sppyears[spp_name]='no_data'\n",
    "        time.sleep(5) # 1 second I think?\n",
    "\n",
    "# print the dic:\n",
    "print(dic_sppyears)\n",
    "## access dictionary by\n",
    "# dic_sppyears['species_name']=information"
   ]
  }
 ],
 "metadata": {
  "kernelspec": {
   "display_name": "python36",
   "language": "python",
   "name": "python36"
  },
  "language_info": {
   "codemirror_mode": {
    "name": "ipython",
    "version": 3
   },
   "file_extension": ".py",
   "mimetype": "text/x-python",
   "name": "python",
   "nbconvert_exporter": "python",
   "pygments_lexer": "ipython3",
   "version": "3.6.7"
  }
 },
 "nbformat": 4,
 "nbformat_minor": 2
}
